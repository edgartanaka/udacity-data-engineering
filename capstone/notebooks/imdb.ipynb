{
 "cells": [
  {
   "cell_type": "code",
   "execution_count": 1,
   "metadata": {},
   "outputs": [],
   "source": [
    "import pandas as pd\n",
    "import numpy as np"
   ]
  },
  {
   "cell_type": "code",
   "execution_count": 5,
   "metadata": {},
   "outputs": [],
   "source": [
    "df = pd.read_csv('../data/imdb/name.basics.tsv', delimiter='\\t')"
   ]
  },
  {
   "cell_type": "code",
   "execution_count": 4,
   "metadata": {},
   "outputs": [
    {
     "name": "stdout",
     "output_type": "stream",
     "text": [
      "../data/imdb/name.basics.tsv\r\n"
     ]
    }
   ],
   "source": [
    "!ls ../data/imdb/name.basics.tsv"
   ]
  },
  {
   "cell_type": "code",
   "execution_count": 6,
   "metadata": {},
   "outputs": [
    {
     "data": {
      "text/html": [
       "<div>\n",
       "<style scoped>\n",
       "    .dataframe tbody tr th:only-of-type {\n",
       "        vertical-align: middle;\n",
       "    }\n",
       "\n",
       "    .dataframe tbody tr th {\n",
       "        vertical-align: top;\n",
       "    }\n",
       "\n",
       "    .dataframe thead th {\n",
       "        text-align: right;\n",
       "    }\n",
       "</style>\n",
       "<table border=\"1\" class=\"dataframe\">\n",
       "  <thead>\n",
       "    <tr style=\"text-align: right;\">\n",
       "      <th></th>\n",
       "      <th>nconst</th>\n",
       "      <th>primaryName</th>\n",
       "      <th>birthYear</th>\n",
       "      <th>deathYear</th>\n",
       "      <th>primaryProfession</th>\n",
       "      <th>knownForTitles</th>\n",
       "    </tr>\n",
       "  </thead>\n",
       "  <tbody>\n",
       "    <tr>\n",
       "      <th>0</th>\n",
       "      <td>nm0000001</td>\n",
       "      <td>Fred Astaire</td>\n",
       "      <td>1899</td>\n",
       "      <td>1987</td>\n",
       "      <td>soundtrack,actor,miscellaneous</td>\n",
       "      <td>tt0053137,tt0050419,tt0043044,tt0072308</td>\n",
       "    </tr>\n",
       "    <tr>\n",
       "      <th>1</th>\n",
       "      <td>nm0000002</td>\n",
       "      <td>Lauren Bacall</td>\n",
       "      <td>1924</td>\n",
       "      <td>2014</td>\n",
       "      <td>actress,soundtrack</td>\n",
       "      <td>tt0037382,tt0117057,tt0038355,tt0071877</td>\n",
       "    </tr>\n",
       "    <tr>\n",
       "      <th>2</th>\n",
       "      <td>nm0000003</td>\n",
       "      <td>Brigitte Bardot</td>\n",
       "      <td>1934</td>\n",
       "      <td>\\N</td>\n",
       "      <td>actress,soundtrack,music_department</td>\n",
       "      <td>tt0059956,tt0049189,tt0054452,tt0057345</td>\n",
       "    </tr>\n",
       "    <tr>\n",
       "      <th>3</th>\n",
       "      <td>nm0000004</td>\n",
       "      <td>John Belushi</td>\n",
       "      <td>1949</td>\n",
       "      <td>1982</td>\n",
       "      <td>actor,soundtrack,writer</td>\n",
       "      <td>tt0080455,tt0078723,tt0077975,tt0072562</td>\n",
       "    </tr>\n",
       "    <tr>\n",
       "      <th>4</th>\n",
       "      <td>nm0000005</td>\n",
       "      <td>Ingmar Bergman</td>\n",
       "      <td>1918</td>\n",
       "      <td>2007</td>\n",
       "      <td>writer,director,actor</td>\n",
       "      <td>tt0050986,tt0060827,tt0050976,tt0083922</td>\n",
       "    </tr>\n",
       "  </tbody>\n",
       "</table>\n",
       "</div>"
      ],
      "text/plain": [
       "      nconst      primaryName birthYear deathYear  \\\n",
       "0  nm0000001     Fred Astaire      1899      1987   \n",
       "1  nm0000002    Lauren Bacall      1924      2014   \n",
       "2  nm0000003  Brigitte Bardot      1934        \\N   \n",
       "3  nm0000004     John Belushi      1949      1982   \n",
       "4  nm0000005   Ingmar Bergman      1918      2007   \n",
       "\n",
       "                     primaryProfession  \\\n",
       "0       soundtrack,actor,miscellaneous   \n",
       "1                   actress,soundtrack   \n",
       "2  actress,soundtrack,music_department   \n",
       "3              actor,soundtrack,writer   \n",
       "4                writer,director,actor   \n",
       "\n",
       "                            knownForTitles  \n",
       "0  tt0053137,tt0050419,tt0043044,tt0072308  \n",
       "1  tt0037382,tt0117057,tt0038355,tt0071877  \n",
       "2  tt0059956,tt0049189,tt0054452,tt0057345  \n",
       "3  tt0080455,tt0078723,tt0077975,tt0072562  \n",
       "4  tt0050986,tt0060827,tt0050976,tt0083922  "
      ]
     },
     "execution_count": 6,
     "metadata": {},
     "output_type": "execute_result"
    }
   ],
   "source": [
    "df.head()"
   ]
  },
  {
   "cell_type": "code",
   "execution_count": null,
   "metadata": {},
   "outputs": [],
   "source": [
    "df = pd.read_csv('../data/imdb/title.crew.tsv', delimiter='\\t')\n",
    "measurer = np.vectorize(len)\n",
    "res1 = measurer(df.values.astype(str)).max(axis=0)"
   ]
  },
  {
   "cell_type": "code",
   "execution_count": null,
   "metadata": {},
   "outputs": [],
   "source": [
    "res1"
   ]
  },
  {
   "cell_type": "code",
   "execution_count": null,
   "metadata": {},
   "outputs": [],
   "source": [
    "df2 = pd.read_csv('../data/imdb/title.ratings.tsv', delimiter='\\t')\n",
    "measurer = np.vectorize(len)\n",
    "res1 = measurer(df2.values.astype(str)).max(axis=0)\n",
    "res1"
   ]
  },
  {
   "cell_type": "code",
   "execution_count": 2,
   "metadata": {},
   "outputs": [],
   "source": [
    "df = pd.read_csv('../data/imdb/title.crew.tsv', delimiter='\\t')"
   ]
  },
  {
   "cell_type": "code",
   "execution_count": 12,
   "metadata": {},
   "outputs": [
    {
     "data": {
      "text/plain": [
       "'nm0016534,nm0018712,nm0019706,nm0020104,nm0020526,nm0021379,nm0027173,nm0044831,nm0047143,nm0052231,nm2772343,nm0055975,nm0057381,nm2774067,nm0065139,nm0068666,nm0070948,nm0071657,nm0072639,nm0073116,nm0073393,nm0073399,nm0075324,nm0075344,nm0079173,nm0085662,nm0087581,nm0088161,nm0088602,nm0088662,nm0089342,nm0089637,nm0090840,nm0091213,nm0093430,nm1057726,nm0094889,nm0095688,nm0101115,nm0102818,nm0062738,nm0105965,nm0108108,nm2766747,nm0110958,nm0111402,nm0113689,nm2595071,nm1503327,nm0118227,nm1563042,nm0122417,nm0124224,nm0124918,nm0124947,nm0128906,nm0132180,nm2767856,nm2552434,nm1216066,nm2766946,nm0140950,nm0308604,nm0148223,nm0151452,nm0151949,nm0154773,nm0156726,nm0002005,nm0164737,nm1154897,nm2775154,nm1198517,nm0168829,nm2766673,nm2771291,nm0172559,nm0173532,nm0175028,nm0175333,nm2785990,nm0177983,nm0178763,nm0178778,nm1497212,nm0186918,nm0191580,nm2766860,nm0001094,nm0202590,nm0202681,nm0205244,nm0206802,nm0217568,nm0219068,nm0219281,nm2754249,nm0225342,nm0237225,nm0237439,nm1529944,nm0238898,nm0243313,nm0240887,nm0243004,nm0245943,nm0247892,nm0248367,nm0251375,nm0254641,nm1760986,nm2774609,nm0258493,nm0258525,nm0259838,nm1910739,nm0262368,nm0265023,nm0001203,nm0272045,nm0276252,nm0277874,nm2200077,nm0279795,nm0280234,nm0281331,nm0283133,nm0283780,nm0285218,nm0287988,nm2774478,nm0291515,nm0293388,nm0295786,nm0296192,nm0297190,nm0299154,nm0307222,nm1910295,nm0310775,nm0317954,nm0319663,nm0322227,nm0323218,nm0324499,nm0324537,nm0328837,nm0328959,nm0329136,nm0329148,nm1536488,nm0338521,nm0338751,nm0344631,nm0353226,nm0355631,nm0357707,nm0365661,nm0368566,nm0368719,nm0371092,nm0371193,nm0372677,nm0002133,nm0378431,nm0378773,nm0380885,nm0381486,nm0382562,nm1491933,nm0384509,nm2758996,nm0388976,nm2765257,nm0391318,nm0394774,nm0396754,nm0398021,nm0400015,nm0400403,nm0400912,nm0401738,nm0403398,nm0001379,nm0405077,nm0413519,nm0413590,nm0413711,nm0414438,nm0414989,nm1300090,nm0416556,nm0416577,nm0422164,nm2759014,nm0426515,nm0430756,nm0430770,nm0431076,nm0432728,nm0436475,nm0437969,nm0442105,nm0443966,nm2759122,nm0446403,nm0453885,nm0460647,nm2761392,nm0461113,nm2760728,nm0462321,nm0468893,nm0469915,nm0472197,nm0473134,nm0474984,nm0475823,nm2763157,nm2775409,nm0484816,nm0489636,nm0492854,nm0493071,nm0493811,nm0497738,nm2769980,nm0499626,nm0499628,nm0501973,nm2754384,nm0502649,nm0397022,nm0507265,nm0507282,nm0509398,nm0510989,nm0972416,nm0516039,nm0519487,nm0520501,nm0520960,nm0520989,nm0521435,nm0523269,nm0523385,nm0532030,nm0537387,nm0540445,nm0541662,nm0542531,nm0542534,nm2436859,nm0542631,nm0543243,nm0546100,nm0547949,nm0551261,nm0552202,nm2774061,nm0557398,nm0562606,nm0564970,nm0567613,nm0568060,nm0569950,nm0573929,nm2769974,nm0576035,nm0578439,nm0581217,nm0585461,nm0587697,nm0588959,nm0589316,nm0589616,nm0590316,nm0594594,nm0606806,nm0608763,nm1066093,nm0614246,nm0621783,nm2800868,nm0629240,nm0639676,nm0641454,nm0642005,nm0642156,nm0644114,nm0650581,nm0651585,nm0656048,nm0657630,nm2758940,nm0664022,nm1416589,nm0671117,nm0672906,nm0674169,nm1872444,nm0684093,nm0685265,nm0688261,nm0692108,nm0695292,nm0696189,nm0696190,nm0698989,nm2794546,nm0706993,nm0709446,nm0710723,nm0711905,nm0720904,nm0721655,nm0724337,nm0725017,nm0727105,nm0728002,nm0728307,nm0731409,nm0732325,nm0732452,nm0732845,nm0733142,nm1056753,nm0736911,nm0737167,nm0738710,nm0739884,nm0745444,nm1709358,nm0752541,nm0753249,nm0753452,nm0755266,nm0766665,nm2771918,nm0780833,nm0785245,nm0789675,nm0100884,nm0790654,nm0792670,nm0792845,nm0795229,nm0798977,nm0799403,nm2766680,nm0805340,nm2786197,nm0813584,nm0816085,nm0817771,nm0818700,nm0819076,nm0823551,nm0825705,nm0826873,nm8440740,nm0829044,nm0831720,nm2780152,nm0835880,nm0002545,nm0850698,nm0858329,nm0858501,nm0862419,nm0863062,nm0870150,nm0870511,nm1662801,nm0875800,nm0876562,nm0877957,nm0880449,nm0880493,nm0883017,nm0886668,nm0888144,nm0896830,nm0905937,nm0907013,nm0907186,nm0908281,nm0909063,nm0911350,nm0915873,nm0918061,nm0919380,nm0919925,nm0922143,nm0923735,nm0925129,nm0926728,nm0928068,nm0928496,nm0000697,nm0928623,nm0928625,nm0928642,nm0930082,nm0931350,nm0933858,nm0934861,nm0935507,nm0935996,nm0936254,nm0938170,nm0940397,nm0941280,nm0948634,nm2769856'"
      ]
     },
     "execution_count": 12,
     "metadata": {},
     "output_type": "execute_result"
    }
   ],
   "source": [
    "# df.iloc[38450:38500]\n",
    "df.iloc[41400]['writers']"
   ]
  },
  {
   "cell_type": "code",
   "execution_count": null,
   "metadata": {},
   "outputs": [],
   "source": []
  }
 ],
 "metadata": {
  "kernelspec": {
   "display_name": "Python 3",
   "language": "python",
   "name": "python3"
  },
  "language_info": {
   "codemirror_mode": {
    "name": "ipython",
    "version": 3
   },
   "file_extension": ".py",
   "mimetype": "text/x-python",
   "name": "python",
   "nbconvert_exporter": "python",
   "pygments_lexer": "ipython3",
   "version": "3.7.2"
  }
 },
 "nbformat": 4,
 "nbformat_minor": 2
}
